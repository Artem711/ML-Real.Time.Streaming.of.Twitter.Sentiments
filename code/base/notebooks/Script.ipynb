{
 "cells": [
  {
   "cell_type": "markdown",
   "id": "c4cf8c7c",
   "metadata": {},
   "source": [
    "In this blog we're going to learn how to create a real-time dashboard using the Twitter data on top of which we're going to apply sentiment analysis."
   ]
  },
  {
   "cell_type": "markdown",
   "id": "e676a177",
   "metadata": {},
   "source": [
    "# Agenda of this blog:\n",
    "## Architecture\n",
    "\n",
    "\n",
    "- Overview of data flow\n",
    "- Tech stack that we'll be using\n",
    "- See how the end result will look\n",
    "## Environment setup\n",
    "\n",
    "\n",
    "- AWS EC2 instance and security group creation\n",
    "- Docker installation and running\n",
    "- Usage of docker-composer and starting all the tools\n",
    "- How to access tools in local machine\n",
    "## Classification Model Creation\n",
    "=> (we will use this classification model to predict whether a tweet has a positive or negative sentiment)\n",
    "\n",
    "\n",
    "- Dataset exploration and bucketising\n",
    "- Stratified sampling and dataset splitting\n",
    "- Feature extraction and pipeline creation\n",
    "- Model training and evaluation\n",
    "- Saving the model and the application\n",
    "## Extraction of data using Twitter API\n",
    "\n",
    "- Streaming ata from Twitter API using NiFi (we will use Apache NiFi to ingest data from Twitter API to Kafka)\n",
    "- Creating Kafka topic and publishing messages to it\n",
    "\n",
    "## (Transformation and Loading) of the data\n",
    "=> (transform the data we receive from Twitter API and apply our schema on top of the data we're looking for)\n",
    "=> (using Structured Streaming in Spark we're going to read the data from Kafka and write it into MongoDB)\n",
    "\n",
    "\n",
    "- Schema extraction from the stream of Tweets\n",
    "- Reading data from Kafka as Streaming Dataframe\n",
    "- Extraction and cleansing of Twitter data\n",
    "- Sentiment analysis of tweets\n",
    "- Continous data load to MongoDB\n",
    "\n",
    "## Visualisation\n",
    "=> (data stored in MongoDB will then be visualised in real-time in form of a dashboard)\n",
    "\n",
    "\n",
    "- (Scatter graph) and (table definitiion) with \"Dash Python\" library with intervals\n",
    "- Graph and Table app call-back\n",
    "\n",
    "## Python Scripts that we will build\n",
    "- Schema Generator =>\n",
    "- Sentiment Analyser =>\n",
    "- Stream Listener =>\n",
    "- Sentiment Visualiser =>"
   ]
  },
  {
   "cell_type": "code",
   "execution_count": null,
   "id": "c946770f",
   "metadata": {},
   "outputs": [],
   "source": []
  }
 ],
 "metadata": {
  "kernelspec": {
   "display_name": "Python 3 (ipykernel)",
   "language": "python",
   "name": "python3"
  },
  "language_info": {
   "codemirror_mode": {
    "name": "ipython",
    "version": 3
   },
   "file_extension": ".py",
   "mimetype": "text/x-python",
   "name": "python",
   "nbconvert_exporter": "python",
   "pygments_lexer": "ipython3",
   "version": "3.9.12"
  }
 },
 "nbformat": 4,
 "nbformat_minor": 5
}
