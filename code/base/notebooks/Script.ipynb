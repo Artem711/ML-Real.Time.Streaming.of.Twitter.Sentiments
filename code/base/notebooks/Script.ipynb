{
 "cells": [
  {
   "cell_type": "markdown",
   "id": "40b6e0c1",
   "metadata": {},
   "source": [
    "In this blog we're going to learn how to create a real-time dashboard using the Twitter data on top of which we're going to apply sentiment analysis."
   ]
  },
  {
   "cell_type": "markdown",
   "id": "f874ff34",
   "metadata": {},
   "source": [
    "# Agenda of this blog:\n",
    "## Architecture\n",
    "- Overview of data flow\n",
    "- Te\n",
    "## Environment setup\n",
    "## Model creation\n",
    "## Model creation"
   ]
  }
 ],
 "metadata": {
  "kernelspec": {
   "display_name": "Python 3 (ipykernel)",
   "language": "python",
   "name": "python3"
  },
  "language_info": {
   "codemirror_mode": {
    "name": "ipython",
    "version": 3
   },
   "file_extension": ".py",
   "mimetype": "text/x-python",
   "name": "python",
   "nbconvert_exporter": "python",
   "pygments_lexer": "ipython3",
   "version": "3.9.12"
  }
 },
 "nbformat": 4,
 "nbformat_minor": 5
}
